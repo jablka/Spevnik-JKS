{
 "cells": [
  {
   "cell_type": "markdown",
   "metadata": {},
   "source": [
    "skript vygeneruje dva súbory:  \n",
    "`zoznam_piesni.html` (obyčajný zoznam piesní)  \n",
    "a `zoznam_piesni_large.html` (zoznam piesní aj s textami -pre fulltextové vyhľadávanie)"
   ]
  },
  {
   "cell_type": "code",
   "execution_count": 42,
   "metadata": {},
   "outputs": [],
   "source": [
    "import pandas as pd\n",
    "from bs4 import BeautifulSoup"
   ]
  },
  {
   "cell_type": "markdown",
   "metadata": {},
   "source": [
    "# obsah piesní:"
   ]
  },
  {
   "cell_type": "code",
   "execution_count": 43,
   "metadata": {},
   "outputs": [
    {
     "data": {
      "text/html": [
       "<div>\n",
       "<style scoped>\n",
       "    .dataframe tbody tr th:only-of-type {\n",
       "        vertical-align: middle;\n",
       "    }\n",
       "\n",
       "    .dataframe tbody tr th {\n",
       "        vertical-align: top;\n",
       "    }\n",
       "\n",
       "    .dataframe thead th {\n",
       "        text-align: right;\n",
       "    }\n",
       "</style>\n",
       "<table border=\"1\" class=\"dataframe\">\n",
       "  <thead>\n",
       "    <tr style=\"text-align: right;\">\n",
       "      <th></th>\n",
       "      <th>strofa</th>\n",
       "      <th>text</th>\n",
       "    </tr>\n",
       "    <tr>\n",
       "      <th>cislo</th>\n",
       "      <th></th>\n",
       "      <th></th>\n",
       "    </tr>\n",
       "  </thead>\n",
       "  <tbody>\n",
       "    <tr>\n",
       "      <th>1</th>\n",
       "      <td>1</td>\n",
       "      <td>Ó, prekrásna Hviezda ranná, - ktorá si nám z n...</td>\n",
       "    </tr>\n",
       "    <tr>\n",
       "      <th>1</th>\n",
       "      <td>2</td>\n",
       "      <td>Božieho tys' výkvet diela, - k tebe poslal Gab...</td>\n",
       "    </tr>\n",
       "    <tr>\n",
       "      <th>1</th>\n",
       "      <td>3</td>\n",
       "      <td>Počneš Syna premilého, - Bohom Otcom nám danéh...</td>\n",
       "    </tr>\n",
       "    <tr>\n",
       "      <th>1</th>\n",
       "      <td>4</td>\n",
       "      <td>Ako dcéra Stvoriteľa - Matkou budeš Spasiteľa ...</td>\n",
       "    </tr>\n",
       "    <tr>\n",
       "      <th>1</th>\n",
       "      <td>5</td>\n",
       "      <td>Trojici buď svätej sláva, - Márii česť nech sa...</td>\n",
       "    </tr>\n",
       "    <tr>\n",
       "      <th>...</th>\n",
       "      <td>...</td>\n",
       "      <td>...</td>\n",
       "    </tr>\n",
       "    <tr>\n",
       "      <th>526</th>\n",
       "      <td>2</td>\n",
       "      <td>Teba oslavuje - slávny zbor apoštolov; - teba ...</td>\n",
       "    </tr>\n",
       "    <tr>\n",
       "      <th>526</th>\n",
       "      <td>3</td>\n",
       "      <td>Kriste, ty si kráľ slávy. - Ty si Otcov Syn od...</td>\n",
       "    </tr>\n",
       "    <tr>\n",
       "      <th>526</th>\n",
       "      <td>4</td>\n",
       "      <td>Preto ťa prosíme, - pomáhaj svojim služobníkom...</td>\n",
       "    </tr>\n",
       "    <tr>\n",
       "      <th>526</th>\n",
       "      <td>5</td>\n",
       "      <td>Pripočítaj nás k svojim svätým - vo večnej slá...</td>\n",
       "    </tr>\n",
       "    <tr>\n",
       "      <th>526</th>\n",
       "      <td>6</td>\n",
       "      <td>Po všetky dni - dobrorečíme tebe. - A chválime...</td>\n",
       "    </tr>\n",
       "  </tbody>\n",
       "</table>\n",
       "<p>1842 rows × 2 columns</p>\n",
       "</div>"
      ],
      "text/plain": [
       "       strofa                                               text\n",
       "cislo                                                           \n",
       "1           1  Ó, prekrásna Hviezda ranná, - ktorá si nám z n...\n",
       "1           2  Božieho tys' výkvet diela, - k tebe poslal Gab...\n",
       "1           3  Počneš Syna premilého, - Bohom Otcom nám danéh...\n",
       "1           4  Ako dcéra Stvoriteľa - Matkou budeš Spasiteľa ...\n",
       "1           5  Trojici buď svätej sláva, - Márii česť nech sa...\n",
       "...       ...                                                ...\n",
       "526         2  Teba oslavuje - slávny zbor apoštolov; - teba ...\n",
       "526         3  Kriste, ty si kráľ slávy. - Ty si Otcov Syn od...\n",
       "526         4  Preto ťa prosíme, - pomáhaj svojim služobníkom...\n",
       "526         5  Pripočítaj nás k svojim svätým - vo večnej slá...\n",
       "526         6  Po všetky dni - dobrorečíme tebe. - A chválime...\n",
       "\n",
       "[1842 rows x 2 columns]"
      ]
     },
     "execution_count": 43,
     "metadata": {},
     "output_type": "execute_result"
    }
   ],
   "source": [
    "df = pd.read_csv('texty.csv', index_col=0)\n",
    "df"
   ]
  },
  {
   "cell_type": "code",
   "execution_count": 44,
   "metadata": {},
   "outputs": [
    {
     "data": {
      "text/html": [
       "<div>\n",
       "<style scoped>\n",
       "    .dataframe tbody tr th:only-of-type {\n",
       "        vertical-align: middle;\n",
       "    }\n",
       "\n",
       "    .dataframe tbody tr th {\n",
       "        vertical-align: top;\n",
       "    }\n",
       "\n",
       "    .dataframe thead th {\n",
       "        text-align: right;\n",
       "    }\n",
       "</style>\n",
       "<table border=\"1\" class=\"dataframe\">\n",
       "  <thead>\n",
       "    <tr style=\"text-align: right;\">\n",
       "      <th></th>\n",
       "      <th>cislo</th>\n",
       "      <th>strofa</th>\n",
       "      <th>text</th>\n",
       "    </tr>\n",
       "  </thead>\n",
       "  <tbody>\n",
       "    <tr>\n",
       "      <th>0</th>\n",
       "      <td>1</td>\n",
       "      <td>1</td>\n",
       "      <td>Ó, prekrásna Hviezda ranná, - ktorá si nám z n...</td>\n",
       "    </tr>\n",
       "    <tr>\n",
       "      <th>1</th>\n",
       "      <td>1</td>\n",
       "      <td>2</td>\n",
       "      <td>Božieho tys' výkvet diela, - k tebe poslal Gab...</td>\n",
       "    </tr>\n",
       "    <tr>\n",
       "      <th>2</th>\n",
       "      <td>1</td>\n",
       "      <td>3</td>\n",
       "      <td>Počneš Syna premilého, - Bohom Otcom nám danéh...</td>\n",
       "    </tr>\n",
       "    <tr>\n",
       "      <th>3</th>\n",
       "      <td>1</td>\n",
       "      <td>4</td>\n",
       "      <td>Ako dcéra Stvoriteľa - Matkou budeš Spasiteľa ...</td>\n",
       "    </tr>\n",
       "    <tr>\n",
       "      <th>4</th>\n",
       "      <td>1</td>\n",
       "      <td>5</td>\n",
       "      <td>Trojici buď svätej sláva, - Márii česť nech sa...</td>\n",
       "    </tr>\n",
       "    <tr>\n",
       "      <th>...</th>\n",
       "      <td>...</td>\n",
       "      <td>...</td>\n",
       "      <td>...</td>\n",
       "    </tr>\n",
       "    <tr>\n",
       "      <th>1837</th>\n",
       "      <td>526</td>\n",
       "      <td>2</td>\n",
       "      <td>Teba oslavuje - slávny zbor apoštolov; - teba ...</td>\n",
       "    </tr>\n",
       "    <tr>\n",
       "      <th>1838</th>\n",
       "      <td>526</td>\n",
       "      <td>3</td>\n",
       "      <td>Kriste, ty si kráľ slávy. - Ty si Otcov Syn od...</td>\n",
       "    </tr>\n",
       "    <tr>\n",
       "      <th>1839</th>\n",
       "      <td>526</td>\n",
       "      <td>4</td>\n",
       "      <td>Preto ťa prosíme, - pomáhaj svojim služobníkom...</td>\n",
       "    </tr>\n",
       "    <tr>\n",
       "      <th>1840</th>\n",
       "      <td>526</td>\n",
       "      <td>5</td>\n",
       "      <td>Pripočítaj nás k svojim svätým - vo večnej slá...</td>\n",
       "    </tr>\n",
       "    <tr>\n",
       "      <th>1841</th>\n",
       "      <td>526</td>\n",
       "      <td>6</td>\n",
       "      <td>Po všetky dni - dobrorečíme tebe. - A chválime...</td>\n",
       "    </tr>\n",
       "  </tbody>\n",
       "</table>\n",
       "<p>1842 rows × 3 columns</p>\n",
       "</div>"
      ],
      "text/plain": [
       "     cislo  strofa                                               text\n",
       "0        1       1  Ó, prekrásna Hviezda ranná, - ktorá si nám z n...\n",
       "1        1       2  Božieho tys' výkvet diela, - k tebe poslal Gab...\n",
       "2        1       3  Počneš Syna premilého, - Bohom Otcom nám danéh...\n",
       "3        1       4  Ako dcéra Stvoriteľa - Matkou budeš Spasiteľa ...\n",
       "4        1       5  Trojici buď svätej sláva, - Márii česť nech sa...\n",
       "...    ...     ...                                                ...\n",
       "1837   526       2  Teba oslavuje - slávny zbor apoštolov; - teba ...\n",
       "1838   526       3  Kriste, ty si kráľ slávy. - Ty si Otcov Syn od...\n",
       "1839   526       4  Preto ťa prosíme, - pomáhaj svojim služobníkom...\n",
       "1840   526       5  Pripočítaj nás k svojim svätým - vo večnej slá...\n",
       "1841   526       6  Po všetky dni - dobrorečíme tebe. - A chválime...\n",
       "\n",
       "[1842 rows x 3 columns]"
      ]
     },
     "execution_count": 44,
     "metadata": {},
     "output_type": "execute_result"
    }
   ],
   "source": [
    "df=df.reset_index()\n",
    "df"
   ]
  },
  {
   "cell_type": "code",
   "execution_count": 45,
   "metadata": {},
   "outputs": [
    {
     "name": "stdout",
     "output_type": "stream",
     "text": [
      "<class 'pandas.core.frame.DataFrame'>\n",
      "RangeIndex: 1842 entries, 0 to 1841\n",
      "Data columns (total 3 columns):\n",
      " #   Column  Non-Null Count  Dtype \n",
      "---  ------  --------------  ----- \n",
      " 0   cislo   1842 non-null   object\n",
      " 1   strofa  1842 non-null   int64 \n",
      " 2   text    1842 non-null   object\n",
      "dtypes: int64(1), object(2)\n",
      "memory usage: 43.3+ KB\n"
     ]
    }
   ],
   "source": [
    "df.info() # pozor, cislo je string"
   ]
  },
  {
   "cell_type": "code",
   "execution_count": 46,
   "metadata": {},
   "outputs": [
    {
     "data": {
      "text/plain": [
       "{'1': [0, 1, 2, 3, 4], '10': [52, 53, 54, 55, 56, 57, 58], '100': [537, 538, 539, 540, 541, 542], '101': [543, 544, 545, 546], '102': [547, 548, 549, 550, 551, 552], '103': [553, 554, 555, 556, 557], '104': [558, 559, 560], '105': [561, 562, 563], '106': [564, 565, 566, 567, 568], '107': [569, 570, 571, 572, 573, 574, 575, 576, 577, 578], '108': [579, 580, 581, 582], '109': [583, 584, 585, 586, 587], '11': [59, 60, 61, 62, 63, 64], '110': [588, 589, 590, 591, 592], '111': [593, 594, 595], '112': [596, 597, 598, 599, 600, 601], '113': [602, 603, 604, 605, 606], '114': [607, 608, 609, 610, 611], '115': [612, 613, 614, 615, 616, 617], '116': [618, 619, 620, 621, 622], '117': [623, 624, 625, 626, 627, 628], '118': [629, 630, 631, 632, 633, 634, 635], '119': [636, 637, 638, 639, 640, 641], '12': [65, 66, 67, 68, 69, 70, 71], '120': [642, 643, 644, 645, 646], '121': [647, 648, 649, 650], '122': [651, 652, 653, 654, 655, 656], '123': [657, 658, 659, 660, 661, 662], '124': [663, 664, 665, 666, 667], '125': [668, 669, 670, 671, 672], '126': [673, 674, 675, 676, 677], '127': [678, 679, 680, 681, 682, 683, 684], '128': [685, 686, 687, 688, 689, 690], '129': [691, 692, 693, 694, 695, 696, 697, 698], '13': [72, 73, 74, 75, 76, 77, 78, 79], '130': [699, 700, 701, 702, 703, 704], '131': [705, 706, 707, 708, 709, 710, 711], '132': [712, 713, 714, 715], '133': [716, 717, 718, 719, 720, 721, 722, 723], '134': [724, 725, 726, 727, 728, 729], '135': [730, 731, 732], '136': [733, 734, 735, 736], '137': [737, 738, 739, 740], '138': [741, 742, 743, 744], '139': [745, 746, 747, 748, 749], '14': [80, 81, 82, 83, 84, 85, 86, 87, 88], '140': [750, 751, 752, 753, 754, 755, 756], '141': [757, 758, 759, 760], '142': [761, 762, 763, 764, 765], '143': [766, 767, 768], '144': [769, 770, 771, 772, 773], '145': [774, 775, 776, 777, 778, 779, 780, 781], '146': [782, 783, 784, 785, 786], '147': [787, 788, 789, 790], '148': [791, 792, 793, 794, 795, 796], '149': [797, 798, 799, 800, 801, 802], '15': [89, 90, 91, 92, 93], '150': [803, 804, 805, 806, 807, 808, 809, 810, 811, 812], '151': [813, 814, 815, 816, 817, 818], '152': [819, 820, 821, 822, 823, 824, 825, 826], '153': [827, 828, 829, 830, 831, 832, 833, 834, 835, 836, 837], '154': [838, 839, 840, 841, 842], '155': [843, 844, 845, 846, 847, 848, 849, 850], '156': [851, 852, 853, 854], '157': [855, 856, 857, 858, 859], '158': [860, 861, 862, 863, 864, 865, 866, 867, 868, 869, 870, 871, 872, 873], '159': [874, 875, 876, 877], '16': [94, 95, 96, 97, 98, 99, 100], '160': [878, 879, 880, 881, 882], '161': [883, 884, 885, 886], '162': [887, 888, 889, 890, 891, 892], '163': [893, 894, 895, 896], '164': [897, 898, 899, 900], '165': [901, 902, 903, 904, 905, 906, 907], '166': [908, 909, 910], '167': [911, 912, 913, 914, 915, 916, 917, 918], '168': [919, 920, 921, 922, 923], '169': [924, 925, 926, 927, 928, 929, 930, 931, 932], '17': [101, 102, 103, 104, 105, 106, 107], '170': [933, 934, 935, 936, 937], '171': [938, 939, 940, 941, 942], '172': [943, 944, 945, 946, 947, 948, 949, 950, 951, 952, 953, 954, 955, 956, 957, 958], '173': [959, 960, 961, 962, 963, 964], '174': [965, 966, 967, 968], '175': [969, 970, 971, 972, 973, 974, 975], '176': [976, 977, 978, 979, 980, 981, 982, 983], '177': [984, 985, 986, 987, 988, 989, 990], '178': [991, 992, 993, 994, 995, 996, 997, 998, 999, 1000, 1001, 1002, 1003, 1004, 1005], '179': [1006, 1007, 1008, 1009, 1010, 1011, 1012, 1013, 1014, 1015, 1016, 1017, 1018, 1019, 1020, 1021], '18': [108, 109, 110, 111, 112, 113, 114, 115], '180': [1022, 1023, 1024, 1025, 1026], '181': [1027, 1028, 1029, 1030, 1031, 1032, 1033, 1034, 1035, 1036, 1037, 1038, 1039, 1040, 1041, 1042], '182': [1043], '183': [1044, 1045, 1046, 1047, 1048, 1049, 1050], '184': [1051, 1052, 1053, 1054, 1055, 1056], '185': [1057, 1058, 1059, 1060, 1061, 1062], '186': [1063, 1064, 1065, 1066, 1067, 1068, 1069], '187': [1070, 1071, 1072, 1073, 1074, 1075, 1076, 1077, 1078, 1079], '188': [1080, 1081, 1082, 1083, 1084, 1085, 1086, 1087, 1088, 1089, 1090, 1091], '189': [1092, 1093, 1094], ...}"
      ]
     },
     "execution_count": 46,
     "metadata": {},
     "output_type": "execute_result"
    }
   ],
   "source": [
    "df.groupby(['cislo']).groups # pozor, cislo je string, a sort je True (by default)"
   ]
  },
  {
   "cell_type": "code",
   "execution_count": null,
   "metadata": {},
   "outputs": [],
   "source": []
  },
  {
   "cell_type": "code",
   "execution_count": 47,
   "metadata": {},
   "outputs": [
    {
     "data": {
      "text/html": [
       "<div>\n",
       "<style scoped>\n",
       "    .dataframe tbody tr th:only-of-type {\n",
       "        vertical-align: middle;\n",
       "    }\n",
       "\n",
       "    .dataframe tbody tr th {\n",
       "        vertical-align: top;\n",
       "    }\n",
       "\n",
       "    .dataframe thead th {\n",
       "        text-align: right;\n",
       "    }\n",
       "</style>\n",
       "<table border=\"1\" class=\"dataframe\">\n",
       "  <thead>\n",
       "    <tr style=\"text-align: right;\">\n",
       "      <th></th>\n",
       "      <th></th>\n",
       "      <th>strofa</th>\n",
       "      <th>text</th>\n",
       "    </tr>\n",
       "    <tr>\n",
       "      <th>cislo</th>\n",
       "      <th></th>\n",
       "      <th></th>\n",
       "      <th></th>\n",
       "    </tr>\n",
       "  </thead>\n",
       "  <tbody>\n",
       "    <tr>\n",
       "      <th rowspan=\"5\" valign=\"top\">1</th>\n",
       "      <th>0</th>\n",
       "      <td>1</td>\n",
       "      <td>Ó, prekrásna Hviezda ranná, - ktorá si nám z n...</td>\n",
       "    </tr>\n",
       "    <tr>\n",
       "      <th>1</th>\n",
       "      <td>2</td>\n",
       "      <td>Božieho tys' výkvet diela, - k tebe poslal Gab...</td>\n",
       "    </tr>\n",
       "    <tr>\n",
       "      <th>2</th>\n",
       "      <td>3</td>\n",
       "      <td>Počneš Syna premilého, - Bohom Otcom nám danéh...</td>\n",
       "    </tr>\n",
       "    <tr>\n",
       "      <th>3</th>\n",
       "      <td>4</td>\n",
       "      <td>Ako dcéra Stvoriteľa - Matkou budeš Spasiteľa ...</td>\n",
       "    </tr>\n",
       "    <tr>\n",
       "      <th>4</th>\n",
       "      <td>5</td>\n",
       "      <td>Trojici buď svätej sláva, - Márii česť nech sa...</td>\n",
       "    </tr>\n",
       "    <tr>\n",
       "      <th>...</th>\n",
       "      <th>...</th>\n",
       "      <td>...</td>\n",
       "      <td>...</td>\n",
       "    </tr>\n",
       "    <tr>\n",
       "      <th rowspan=\"5\" valign=\"top\">526</th>\n",
       "      <th>1837</th>\n",
       "      <td>2</td>\n",
       "      <td>Teba oslavuje - slávny zbor apoštolov; - teba ...</td>\n",
       "    </tr>\n",
       "    <tr>\n",
       "      <th>1838</th>\n",
       "      <td>3</td>\n",
       "      <td>Kriste, ty si kráľ slávy. - Ty si Otcov Syn od...</td>\n",
       "    </tr>\n",
       "    <tr>\n",
       "      <th>1839</th>\n",
       "      <td>4</td>\n",
       "      <td>Preto ťa prosíme, - pomáhaj svojim služobníkom...</td>\n",
       "    </tr>\n",
       "    <tr>\n",
       "      <th>1840</th>\n",
       "      <td>5</td>\n",
       "      <td>Pripočítaj nás k svojim svätým - vo večnej slá...</td>\n",
       "    </tr>\n",
       "    <tr>\n",
       "      <th>1841</th>\n",
       "      <td>6</td>\n",
       "      <td>Po všetky dni - dobrorečíme tebe. - A chválime...</td>\n",
       "    </tr>\n",
       "  </tbody>\n",
       "</table>\n",
       "<p>1842 rows × 2 columns</p>\n",
       "</div>"
      ],
      "text/plain": [
       "            strofa                                               text\n",
       "cislo                                                                \n",
       "1     0          1  Ó, prekrásna Hviezda ranná, - ktorá si nám z n...\n",
       "      1          2  Božieho tys' výkvet diela, - k tebe poslal Gab...\n",
       "      2          3  Počneš Syna premilého, - Bohom Otcom nám danéh...\n",
       "      3          4  Ako dcéra Stvoriteľa - Matkou budeš Spasiteľa ...\n",
       "      4          5  Trojici buď svätej sláva, - Márii česť nech sa...\n",
       "...            ...                                                ...\n",
       "526   1837       2  Teba oslavuje - slávny zbor apoštolov; - teba ...\n",
       "      1838       3  Kriste, ty si kráľ slávy. - Ty si Otcov Syn od...\n",
       "      1839       4  Preto ťa prosíme, - pomáhaj svojim služobníkom...\n",
       "      1840       5  Pripočítaj nás k svojim svätým - vo večnej slá...\n",
       "      1841       6  Po všetky dni - dobrorečíme tebe. - A chválime...\n",
       "\n",
       "[1842 rows x 2 columns]"
      ]
     },
     "execution_count": 47,
     "metadata": {},
     "output_type": "execute_result"
    }
   ],
   "source": [
    "# pozor, cislo je string, sort musí byť False!\n",
    "df_grouped = df.groupby(['cislo'], sort=False)[['strofa','text']].apply(lambda x:x)\n",
    "df_grouped"
   ]
  },
  {
   "cell_type": "code",
   "execution_count": 48,
   "metadata": {},
   "outputs": [
    {
     "data": {
      "text/plain": [
       "<pandas.core.groupby.generic.DataFrameGroupBy object at 0x00000224ECAB0BC0>"
      ]
     },
     "execution_count": 48,
     "metadata": {},
     "output_type": "execute_result"
    }
   ],
   "source": [
    "# pozor, cislo je string, sort musí byť False!\n",
    "gg = df.groupby(['cislo'], sort=False)[['strofa','text']]\n",
    "gg"
   ]
  },
  {
   "cell_type": "code",
   "execution_count": 49,
   "metadata": {},
   "outputs": [],
   "source": [
    "# for number, song in gg:    \n",
    "#     print(type(number), type(song))\n",
    "#     print(number)"
   ]
  },
  {
   "cell_type": "markdown",
   "metadata": {},
   "source": [
    "# názvy:"
   ]
  },
  {
   "cell_type": "code",
   "execution_count": 50,
   "metadata": {},
   "outputs": [
    {
     "data": {
      "text/html": [
       "<div>\n",
       "<style scoped>\n",
       "    .dataframe tbody tr th:only-of-type {\n",
       "        vertical-align: middle;\n",
       "    }\n",
       "\n",
       "    .dataframe tbody tr th {\n",
       "        vertical-align: top;\n",
       "    }\n",
       "\n",
       "    .dataframe thead th {\n",
       "        text-align: right;\n",
       "    }\n",
       "</style>\n",
       "<table border=\"1\" class=\"dataframe\">\n",
       "  <thead>\n",
       "    <tr style=\"text-align: right;\">\n",
       "      <th></th>\n",
       "      <th>názov</th>\n",
       "    </tr>\n",
       "    <tr>\n",
       "      <th>číslo</th>\n",
       "      <th></th>\n",
       "    </tr>\n",
       "  </thead>\n",
       "  <tbody>\n",
       "    <tr>\n",
       "      <th>1</th>\n",
       "      <td>Ó, prekrásna Hviezda ranná</td>\n",
       "    </tr>\n",
       "    <tr>\n",
       "      <th>2</th>\n",
       "      <td>Anjel Pána</td>\n",
       "    </tr>\n",
       "    <tr>\n",
       "      <th>3</th>\n",
       "      <td>Anjel z neba</td>\n",
       "    </tr>\n",
       "    <tr>\n",
       "      <th>4</th>\n",
       "      <td>Bože, ku tebe</td>\n",
       "    </tr>\n",
       "    <tr>\n",
       "      <th>5</th>\n",
       "      <td>Buď, Mária, pozdravená</td>\n",
       "    </tr>\n",
       "    <tr>\n",
       "      <th>...</th>\n",
       "      <td>...</td>\n",
       "    </tr>\n",
       "    <tr>\n",
       "      <th>501</th>\n",
       "      <td>Ježiš, Mária i Jozef</td>\n",
       "    </tr>\n",
       "    <tr>\n",
       "      <th>507</th>\n",
       "      <td>Bože, ktorý stav manželský</td>\n",
       "    </tr>\n",
       "    <tr>\n",
       "      <th>523</th>\n",
       "      <td>V sedmobrežnom kruhu Ríma</td>\n",
       "    </tr>\n",
       "    <tr>\n",
       "      <th>524</th>\n",
       "      <td>Bože, čos’ ráčil</td>\n",
       "    </tr>\n",
       "    <tr>\n",
       "      <th>526</th>\n",
       "      <td>Teba, Bože, chválime</td>\n",
       "    </tr>\n",
       "  </tbody>\n",
       "</table>\n",
       "<p>336 rows × 1 columns</p>\n",
       "</div>"
      ],
      "text/plain": [
       "                            názov\n",
       "číslo                            \n",
       "1      Ó, prekrásna Hviezda ranná\n",
       "2                      Anjel Pána\n",
       "3                    Anjel z neba\n",
       "4                   Bože, ku tebe\n",
       "5          Buď, Mária, pozdravená\n",
       "...                           ...\n",
       "501          Ježiš, Mária i Jozef\n",
       "507    Bože, ktorý stav manželský\n",
       "523     V sedmobrežnom kruhu Ríma\n",
       "524              Bože, čos’ ráčil\n",
       "526          Teba, Bože, chválime\n",
       "\n",
       "[336 rows x 1 columns]"
      ]
     },
     "execution_count": 50,
     "metadata": {},
     "output_type": "execute_result"
    }
   ],
   "source": [
    "df2 = pd.read_csv('nazvy.csv', index_col=0)\n",
    "df2"
   ]
  },
  {
   "cell_type": "code",
   "execution_count": 51,
   "metadata": {},
   "outputs": [
    {
     "data": {
      "text/html": [
       "<div>\n",
       "<style scoped>\n",
       "    .dataframe tbody tr th:only-of-type {\n",
       "        vertical-align: middle;\n",
       "    }\n",
       "\n",
       "    .dataframe tbody tr th {\n",
       "        vertical-align: top;\n",
       "    }\n",
       "\n",
       "    .dataframe thead th {\n",
       "        text-align: right;\n",
       "    }\n",
       "</style>\n",
       "<table border=\"1\" class=\"dataframe\">\n",
       "  <thead>\n",
       "    <tr style=\"text-align: right;\">\n",
       "      <th></th>\n",
       "      <th>číslo</th>\n",
       "      <th>názov</th>\n",
       "    </tr>\n",
       "  </thead>\n",
       "  <tbody>\n",
       "    <tr>\n",
       "      <th>0</th>\n",
       "      <td>1</td>\n",
       "      <td>Ó, prekrásna Hviezda ranná</td>\n",
       "    </tr>\n",
       "    <tr>\n",
       "      <th>1</th>\n",
       "      <td>2</td>\n",
       "      <td>Anjel Pána</td>\n",
       "    </tr>\n",
       "    <tr>\n",
       "      <th>2</th>\n",
       "      <td>3</td>\n",
       "      <td>Anjel z neba</td>\n",
       "    </tr>\n",
       "    <tr>\n",
       "      <th>3</th>\n",
       "      <td>4</td>\n",
       "      <td>Bože, ku tebe</td>\n",
       "    </tr>\n",
       "    <tr>\n",
       "      <th>4</th>\n",
       "      <td>5</td>\n",
       "      <td>Buď, Mária, pozdravená</td>\n",
       "    </tr>\n",
       "    <tr>\n",
       "      <th>...</th>\n",
       "      <td>...</td>\n",
       "      <td>...</td>\n",
       "    </tr>\n",
       "    <tr>\n",
       "      <th>331</th>\n",
       "      <td>501</td>\n",
       "      <td>Ježiš, Mária i Jozef</td>\n",
       "    </tr>\n",
       "    <tr>\n",
       "      <th>332</th>\n",
       "      <td>507</td>\n",
       "      <td>Bože, ktorý stav manželský</td>\n",
       "    </tr>\n",
       "    <tr>\n",
       "      <th>333</th>\n",
       "      <td>523</td>\n",
       "      <td>V sedmobrežnom kruhu Ríma</td>\n",
       "    </tr>\n",
       "    <tr>\n",
       "      <th>334</th>\n",
       "      <td>524</td>\n",
       "      <td>Bože, čos’ ráčil</td>\n",
       "    </tr>\n",
       "    <tr>\n",
       "      <th>335</th>\n",
       "      <td>526</td>\n",
       "      <td>Teba, Bože, chválime</td>\n",
       "    </tr>\n",
       "  </tbody>\n",
       "</table>\n",
       "<p>336 rows × 2 columns</p>\n",
       "</div>"
      ],
      "text/plain": [
       "    číslo                       názov\n",
       "0       1  Ó, prekrásna Hviezda ranná\n",
       "1       2                  Anjel Pána\n",
       "2       3                Anjel z neba\n",
       "3       4               Bože, ku tebe\n",
       "4       5      Buď, Mária, pozdravená\n",
       "..    ...                         ...\n",
       "331   501        Ježiš, Mária i Jozef\n",
       "332   507  Bože, ktorý stav manželský\n",
       "333   523   V sedmobrežnom kruhu Ríma\n",
       "334   524            Bože, čos’ ráčil\n",
       "335   526        Teba, Bože, chválime\n",
       "\n",
       "[336 rows x 2 columns]"
      ]
     },
     "execution_count": 51,
     "metadata": {},
     "output_type": "execute_result"
    }
   ],
   "source": [
    "df2=df2.reset_index()\n",
    "df2"
   ]
  },
  {
   "cell_type": "code",
   "execution_count": 52,
   "metadata": {},
   "outputs": [
    {
     "data": {
      "text/html": [
       "<div>\n",
       "<style scoped>\n",
       "    .dataframe tbody tr th:only-of-type {\n",
       "        vertical-align: middle;\n",
       "    }\n",
       "\n",
       "    .dataframe tbody tr th {\n",
       "        vertical-align: top;\n",
       "    }\n",
       "\n",
       "    .dataframe thead th {\n",
       "        text-align: right;\n",
       "    }\n",
       "</style>\n",
       "<table border=\"1\" class=\"dataframe\">\n",
       "  <thead>\n",
       "    <tr style=\"text-align: right;\">\n",
       "      <th></th>\n",
       "      <th>cislo</th>\n",
       "      <th>nazov</th>\n",
       "    </tr>\n",
       "  </thead>\n",
       "  <tbody>\n",
       "    <tr>\n",
       "      <th>0</th>\n",
       "      <td>1</td>\n",
       "      <td>Ó, prekrásna Hviezda ranná</td>\n",
       "    </tr>\n",
       "    <tr>\n",
       "      <th>1</th>\n",
       "      <td>2</td>\n",
       "      <td>Anjel Pána</td>\n",
       "    </tr>\n",
       "    <tr>\n",
       "      <th>2</th>\n",
       "      <td>3</td>\n",
       "      <td>Anjel z neba</td>\n",
       "    </tr>\n",
       "    <tr>\n",
       "      <th>3</th>\n",
       "      <td>4</td>\n",
       "      <td>Bože, ku tebe</td>\n",
       "    </tr>\n",
       "    <tr>\n",
       "      <th>4</th>\n",
       "      <td>5</td>\n",
       "      <td>Buď, Mária, pozdravená</td>\n",
       "    </tr>\n",
       "    <tr>\n",
       "      <th>...</th>\n",
       "      <td>...</td>\n",
       "      <td>...</td>\n",
       "    </tr>\n",
       "    <tr>\n",
       "      <th>331</th>\n",
       "      <td>501</td>\n",
       "      <td>Ježiš, Mária i Jozef</td>\n",
       "    </tr>\n",
       "    <tr>\n",
       "      <th>332</th>\n",
       "      <td>507</td>\n",
       "      <td>Bože, ktorý stav manželský</td>\n",
       "    </tr>\n",
       "    <tr>\n",
       "      <th>333</th>\n",
       "      <td>523</td>\n",
       "      <td>V sedmobrežnom kruhu Ríma</td>\n",
       "    </tr>\n",
       "    <tr>\n",
       "      <th>334</th>\n",
       "      <td>524</td>\n",
       "      <td>Bože, čos’ ráčil</td>\n",
       "    </tr>\n",
       "    <tr>\n",
       "      <th>335</th>\n",
       "      <td>526</td>\n",
       "      <td>Teba, Bože, chválime</td>\n",
       "    </tr>\n",
       "  </tbody>\n",
       "</table>\n",
       "<p>336 rows × 2 columns</p>\n",
       "</div>"
      ],
      "text/plain": [
       "    cislo                       nazov\n",
       "0       1  Ó, prekrásna Hviezda ranná\n",
       "1       2                  Anjel Pána\n",
       "2       3                Anjel z neba\n",
       "3       4               Bože, ku tebe\n",
       "4       5      Buď, Mária, pozdravená\n",
       "..    ...                         ...\n",
       "331   501        Ježiš, Mária i Jozef\n",
       "332   507  Bože, ktorý stav manželský\n",
       "333   523   V sedmobrežnom kruhu Ríma\n",
       "334   524            Bože, čos’ ráčil\n",
       "335   526        Teba, Bože, chválime\n",
       "\n",
       "[336 rows x 2 columns]"
      ]
     },
     "execution_count": 52,
     "metadata": {},
     "output_type": "execute_result"
    }
   ],
   "source": [
    "df2.columns=['cislo','nazov']\n",
    "df2"
   ]
  },
  {
   "cell_type": "code",
   "execution_count": 53,
   "metadata": {},
   "outputs": [
    {
     "data": {
      "text/plain": [
       "336"
      ]
     },
     "execution_count": 53,
     "metadata": {},
     "output_type": "execute_result"
    }
   ],
   "source": [
    "len(list(df2.itertuples()))"
   ]
  },
  {
   "cell_type": "code",
   "execution_count": 54,
   "metadata": {},
   "outputs": [
    {
     "data": {
      "text/plain": [
       "336"
      ]
     },
     "execution_count": 54,
     "metadata": {},
     "output_type": "execute_result"
    }
   ],
   "source": [
    "len(gg)"
   ]
  },
  {
   "cell_type": "code",
   "execution_count": 55,
   "metadata": {},
   "outputs": [],
   "source": [
    "bag = zip(df2.itertuples(),gg, strict=True) # strict=True raises error if one of the arrays is longer than the other."
   ]
  },
  {
   "cell_type": "code",
   "execution_count": 56,
   "metadata": {},
   "outputs": [],
   "source": [
    "my_string = ''\n",
    "iba_zoznam = ''\n",
    "for nazvy, g in bag:\n",
    "\n",
    "    iba_zoznam += f'\\n<div><a href=\"res/{nazvy.cislo}.html\">{nazvy.cislo}. {nazvy.nazov}</a></div>\\n'    \n",
    "\n",
    "    my_string += f'\\n<div class=\"song\" onclick=\"mf({nazvy.cislo})\">' # div song\n",
    "    my_string += f'\\n<div class=\"nazov\">{nazvy.cislo}. {nazvy.nazov}</div>\\n'\n",
    "    \n",
    "    my_string += '<div class=\"text\">' # div text\n",
    "    for row in g[1].itertuples():\n",
    "        # rr = row[2].replace(' - ', '\\n') \n",
    "\n",
    "        rr=row.text.replace(' - ',' ')\n",
    "\n",
    "        line = '<p>'+rr+'</p>\\n'\n",
    "\n",
    "        my_string += line\n",
    "    my_string += '</div>\\n' # div text\n",
    "    my_string += '</div>\\n' # div song"
   ]
  },
  {
   "cell_type": "code",
   "execution_count": 57,
   "metadata": {},
   "outputs": [
    {
     "name": "stdout",
     "output_type": "stream",
     "text": [
      "\n",
      "<div><a href=\"res/1.html\">1. Ó, prekrásna Hviezda ranná</a></div>\n",
      "\n",
      "<div><a href=\"res/2.html\">2. Anjel Pána</a></div>\n",
      "\n",
      "<div><a href=\"res/3.html\">3. Anjel z neba</a></div>\n",
      "\n",
      "<div><a href=\"res/4.html\">4. Bože, ku tebe</a></div>\n",
      "\n",
      "<div><a href=\"res/5.html\">5. Buď, Mária, pozdravená</a></div>\n",
      "\n",
      "<div><a href=\"res/6.html\">6. Dennica už vyšla</a></div>\n",
      "\n",
      "<div><a href=\"res/7.html\">7. Dnes Panna je pozdravená</a></div>\n",
      "\n",
      "<div><a href=\"res/8.html\">8. Duša moja celou silou</a></div>\n",
      "\n",
      "<div><a href=\"res/9.html\">9\n"
     ]
    }
   ],
   "source": [
    "print(iba_zoznam[:500]) # ilustračný výpis"
   ]
  },
  {
   "cell_type": "code",
   "execution_count": 58,
   "metadata": {},
   "outputs": [
    {
     "name": "stdout",
     "output_type": "stream",
     "text": [
      "\n",
      "<div class=\"song\" onclick=\"mf(1)\">\n",
      "<div class=\"nazov\">1. Ó, prekrásna Hviezda ranná</div>\n",
      "<div class=\"text\"><p>Ó, prekrásna Hviezda ranná, ktorá si nám z neba daná, vrúcne, Panna, buď vítaná!</p>\n",
      "<p>Božieho tys' výkvet diela, k tebe poslal Gabriela sám Boh, svojho archanjela.</p>\n",
      "<p>Počneš Syna premilého, Bohom Otcom nám daného, Spasiteľa čakaného.</p>\n",
      "<p>Ako dcéra Stvoriteľa Matkou budeš Spasiteľa a Nevestou Tešiteľa.</p>\n",
      "<p>Trojici buď svätej sláva, Márii česť nech sa vzdáva, že sa Božou Matkou stáva.</p>\n",
      "</div>\n",
      "</div>\n",
      "\n",
      "<div class=\"song\" onclick=\"mf(2)\">\n",
      "<div class=\"nazov\">2. Anjel Pána</div>\n",
      "<div class=\"text\"><p>Anjel Pána zvestoval Panne Márii a ona počala z Ducha Svätého, Zdravas', Már\n"
     ]
    }
   ],
   "source": [
    "print(my_string[:700]) # ilustračný výpis"
   ]
  },
  {
   "cell_type": "code",
   "execution_count": 59,
   "metadata": {},
   "outputs": [],
   "source": [
    "# bs4 by sa zrejme dal vynechať, lebo robíme len so stringmi, ale už to nechávam tak ako je:\n",
    "zoznam = BeautifulSoup(f'<div id=\"zoznam\">{iba_zoznam}</div>','html.parser')\n",
    "zoznam_fulltext = BeautifulSoup(f'<div id=\"zoznam_fulltext\">{my_string}</div>','html.parser')"
   ]
  },
  {
   "cell_type": "code",
   "execution_count": 60,
   "metadata": {},
   "outputs": [],
   "source": [
    "with open('zoznam_piesni.html', mode='w', encoding='utf-8') as f_out:\n",
    "        f_out.write(str(zoznam))"
   ]
  },
  {
   "cell_type": "code",
   "execution_count": 61,
   "metadata": {},
   "outputs": [],
   "source": [
    "with open('zoznam_piesni_large.html', mode='w', encoding='utf-8') as f_out:\n",
    "        f_out.write(str(zoznam_fulltext))"
   ]
  },
  {
   "cell_type": "code",
   "execution_count": 68,
   "metadata": {},
   "outputs": [],
   "source": [
    "# done"
   ]
  }
 ],
 "metadata": {
  "kernelspec": {
   "display_name": "Python 3",
   "language": "python",
   "name": "python3"
  },
  "language_info": {
   "codemirror_mode": {
    "name": "ipython",
    "version": 3
   },
   "file_extension": ".py",
   "mimetype": "text/x-python",
   "name": "python",
   "nbconvert_exporter": "python",
   "pygments_lexer": "ipython3",
   "version": "3.12.0"
  }
 },
 "nbformat": 4,
 "nbformat_minor": 2
}
